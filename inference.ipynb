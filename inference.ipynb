{
 "cells": [
  {
   "cell_type": "code",
   "execution_count": null,
   "metadata": {
    "collapsed": true
   },
   "outputs": [],
   "source": []
  },
  {
   "cell_type": "markdown",
   "source": [
    "#**Fourier Ptychographic Microscopy:** inference\n",
    "\n",
    "**Purpose:** Comparison of reconstructed experimental data given the learning design from training, conventional multiplexed design, and conventional single LED design.\n",
    "\n",
    "**author:** hbzhang (hbzhang@vt.edu)"
   ],
   "metadata": {
    "collapsed": false
   }
  },
  {
   "cell_type": "code",
   "execution_count": null,
   "outputs": [],
   "source": [
    "%load_ext autoreload\n",
    "%autoreload 2\n",
    "%matplotlib notebook\n",
    "\n",
    "import os, sys\n",
    "import argparse\n",
    "import time\n",
    "from datetime import datetime\n",
    "import scipy.io as sio\n",
    "\n",
    "import numpy as np\n",
    "import torch\n",
    "from torch.utils.tensorboard import SummaryWriter\n",
    "\n",
    "import matplotlib.image as mpimg\n",
    "import matplotlib.pyplot as plt\n",
    "import matplotlib as mpl\n",
    "mpl.rc('image', cmap='bone')\n",
    "\n",
    "# import local experiment files\n",
    "sys.path.append('./source/')\n",
    "import dataloader\n",
    "import visualizer\n",
    "import model\n",
    "from recon import evaluate\n",
    "from utility import getAbs, getPhase\n",
    "\n",
    "# Setup device\n",
    "device_no = 1\n",
    "torch.cuda.set_device(device_no)\n",
    "device = torch.device(\"cuda:\"+str(device_no) if torch.cuda.is_available() else \"cpu\")"
   ],
   "metadata": {
    "collapsed": false,
    "pycharm": {
     "name": "#%%\n"
    }
   }
  },
  {
   "cell_type": "code",
   "execution_count": null,
   "outputs": [],
   "source": [
    "# paths\n",
    "experimental_data_path = '../../DATA/exp_mc_amp_usaf_2018_11_23/USAF_amplitude_dataset.mat'\n",
    "training_data_path = '/home/kellman/Workspace/PYTHON/Design_FPM_pytorch/datasets_train_iccp_results/train_amp_exp_n10000.mat'\n",
    "ckpt_path = './runs/08:49:07_batch_size=5_stepsize=0.005_loss_fn=abs_optim=adam_num_unrolls=100_alpha=0.100_num_df=4_num_bf=1_num_leds=89/ckpt.tar'"
   ],
   "metadata": {
    "collapsed": false,
    "pycharm": {
     "name": "#%%\n"
    }
   }
  },
  {
   "cell_type": "markdown",
   "source": [
    "# Load experimental data\n",
    "\n"
   ],
   "metadata": {
    "collapsed": false
   }
  }
 ],
 "metadata": {
  "kernelspec": {
   "display_name": "Python 3",
   "language": "python",
   "name": "python3"
  },
  "language_info": {
   "codemirror_mode": {
    "name": "ipython",
    "version": 2
   },
   "file_extension": ".py",
   "mimetype": "text/x-python",
   "name": "python",
   "nbconvert_exporter": "python",
   "pygments_lexer": "ipython2",
   "version": "2.7.6"
  }
 },
 "nbformat": 4,
 "nbformat_minor": 0
}